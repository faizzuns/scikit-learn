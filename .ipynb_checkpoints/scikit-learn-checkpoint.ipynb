{
 "cells": [
  {
   "cell_type": "markdown",
   "metadata": {},
   "source": [
    "# Import Lib"
   ]
  },
  {
   "cell_type": "code",
   "execution_count": 14,
   "metadata": {},
   "outputs": [],
   "source": [
    "import pandas as pd\n",
    "import numpy as np\n",
    "import itertools\n",
    "from sklearn import *\n",
    "import matplotlib.pyplot as plt"
   ]
  },
  {
   "cell_type": "markdown",
   "metadata": {},
   "source": [
    "# Read dataset"
   ]
  },
  {
   "cell_type": "code",
   "execution_count": 15,
   "metadata": {
    "scrolled": true
   },
   "outputs": [
    {
     "name": "stdout",
     "output_type": "stream",
     "text": [
      "     outlook temperature humidity  windy play\n",
      "0      sunny         hot     high  False   no\n",
      "1      sunny         hot     high   True   no\n",
      "2   overcast         hot     high  False  yes\n",
      "3      rainy        mild     high  False  yes\n",
      "4      rainy        cool   normal  False  yes\n",
      "5      rainy        cool   normal   True   no\n",
      "6   overcast        cool   normal   True  yes\n",
      "7      sunny        mild     high  False   no\n",
      "8      sunny        cool   normal  False  yes\n",
      "9      rainy        mild   normal  False  yes\n",
      "10     sunny        mild   normal   True  yes\n",
      "11  overcast        mild     high   True  yes\n",
      "12  overcast         hot   normal  False  yes\n",
      "13     rainy        mild     high   True   no\n"
     ]
    }
   ],
   "source": [
    "weather = pd.read_csv(\"weather.csv\")\n",
    "print(weather)"
   ]
  },
  {
   "cell_type": "markdown",
   "metadata": {},
   "source": [
    "How To Access element\n",
    "1. weather.loc[0, \"outlook\"] --> if you want to select element outlook in row 0\n",
    "2. len(weather.index) --> if you want to get row length of datasets"
   ]
  },
  {
   "cell_type": "code",
   "execution_count": 16,
   "metadata": {
    "collapsed": true
   },
   "outputs": [
    {
     "name": "stdout",
     "output_type": "stream",
     "text": [
      "{'data': array([[5.1, 3.5, 1.4, 0.2],\n",
      "       [4.9, 3. , 1.4, 0.2],\n",
      "       [4.7, 3.2, 1.3, 0.2],\n",
      "       [4.6, 3.1, 1.5, 0.2],\n",
      "       [5. , 3.6, 1.4, 0.2],\n",
      "       [5.4, 3.9, 1.7, 0.4],\n",
      "       [4.6, 3.4, 1.4, 0.3],\n",
      "       [5. , 3.4, 1.5, 0.2],\n",
      "       [4.4, 2.9, 1.4, 0.2],\n",
      "       [4.9, 3.1, 1.5, 0.1],\n",
      "       [5.4, 3.7, 1.5, 0.2],\n",
      "       [4.8, 3.4, 1.6, 0.2],\n",
      "       [4.8, 3. , 1.4, 0.1],\n",
      "       [4.3, 3. , 1.1, 0.1],\n",
      "       [5.8, 4. , 1.2, 0.2],\n",
      "       [5.7, 4.4, 1.5, 0.4],\n",
      "       [5.4, 3.9, 1.3, 0.4],\n",
      "       [5.1, 3.5, 1.4, 0.3],\n",
      "       [5.7, 3.8, 1.7, 0.3],\n",
      "       [5.1, 3.8, 1.5, 0.3],\n",
      "       [5.4, 3.4, 1.7, 0.2],\n",
      "       [5.1, 3.7, 1.5, 0.4],\n",
      "       [4.6, 3.6, 1. , 0.2],\n",
      "       [5.1, 3.3, 1.7, 0.5],\n",
      "       [4.8, 3.4, 1.9, 0.2],\n",
      "       [5. , 3. , 1.6, 0.2],\n",
      "       [5. , 3.4, 1.6, 0.4],\n",
      "       [5.2, 3.5, 1.5, 0.2],\n",
      "       [5.2, 3.4, 1.4, 0.2],\n",
      "       [4.7, 3.2, 1.6, 0.2],\n",
      "       [4.8, 3.1, 1.6, 0.2],\n",
      "       [5.4, 3.4, 1.5, 0.4],\n",
      "       [5.2, 4.1, 1.5, 0.1],\n",
      "       [5.5, 4.2, 1.4, 0.2],\n",
      "       [4.9, 3.1, 1.5, 0.2],\n",
      "       [5. , 3.2, 1.2, 0.2],\n",
      "       [5.5, 3.5, 1.3, 0.2],\n",
      "       [4.9, 3.6, 1.4, 0.1],\n",
      "       [4.4, 3. , 1.3, 0.2],\n",
      "       [5.1, 3.4, 1.5, 0.2],\n",
      "       [5. , 3.5, 1.3, 0.3],\n",
      "       [4.5, 2.3, 1.3, 0.3],\n",
      "       [4.4, 3.2, 1.3, 0.2],\n",
      "       [5. , 3.5, 1.6, 0.6],\n",
      "       [5.1, 3.8, 1.9, 0.4],\n",
      "       [4.8, 3. , 1.4, 0.3],\n",
      "       [5.1, 3.8, 1.6, 0.2],\n",
      "       [4.6, 3.2, 1.4, 0.2],\n",
      "       [5.3, 3.7, 1.5, 0.2],\n",
      "       [5. , 3.3, 1.4, 0.2],\n",
      "       [7. , 3.2, 4.7, 1.4],\n",
      "       [6.4, 3.2, 4.5, 1.5],\n",
      "       [6.9, 3.1, 4.9, 1.5],\n",
      "       [5.5, 2.3, 4. , 1.3],\n",
      "       [6.5, 2.8, 4.6, 1.5],\n",
      "       [5.7, 2.8, 4.5, 1.3],\n",
      "       [6.3, 3.3, 4.7, 1.6],\n",
      "       [4.9, 2.4, 3.3, 1. ],\n",
      "       [6.6, 2.9, 4.6, 1.3],\n",
      "       [5.2, 2.7, 3.9, 1.4],\n",
      "       [5. , 2. , 3.5, 1. ],\n",
      "       [5.9, 3. , 4.2, 1.5],\n",
      "       [6. , 2.2, 4. , 1. ],\n",
      "       [6.1, 2.9, 4.7, 1.4],\n",
      "       [5.6, 2.9, 3.6, 1.3],\n",
      "       [6.7, 3.1, 4.4, 1.4],\n",
      "       [5.6, 3. , 4.5, 1.5],\n",
      "       [5.8, 2.7, 4.1, 1. ],\n",
      "       [6.2, 2.2, 4.5, 1.5],\n",
      "       [5.6, 2.5, 3.9, 1.1],\n",
      "       [5.9, 3.2, 4.8, 1.8],\n",
      "       [6.1, 2.8, 4. , 1.3],\n",
      "       [6.3, 2.5, 4.9, 1.5],\n",
      "       [6.1, 2.8, 4.7, 1.2],\n",
      "       [6.4, 2.9, 4.3, 1.3],\n",
      "       [6.6, 3. , 4.4, 1.4],\n",
      "       [6.8, 2.8, 4.8, 1.4],\n",
      "       [6.7, 3. , 5. , 1.7],\n",
      "       [6. , 2.9, 4.5, 1.5],\n",
      "       [5.7, 2.6, 3.5, 1. ],\n",
      "       [5.5, 2.4, 3.8, 1.1],\n",
      "       [5.5, 2.4, 3.7, 1. ],\n",
      "       [5.8, 2.7, 3.9, 1.2],\n",
      "       [6. , 2.7, 5.1, 1.6],\n",
      "       [5.4, 3. , 4.5, 1.5],\n",
      "       [6. , 3.4, 4.5, 1.6],\n",
      "       [6.7, 3.1, 4.7, 1.5],\n",
      "       [6.3, 2.3, 4.4, 1.3],\n",
      "       [5.6, 3. , 4.1, 1.3],\n",
      "       [5.5, 2.5, 4. , 1.3],\n",
      "       [5.5, 2.6, 4.4, 1.2],\n",
      "       [6.1, 3. , 4.6, 1.4],\n",
      "       [5.8, 2.6, 4. , 1.2],\n",
      "       [5. , 2.3, 3.3, 1. ],\n",
      "       [5.6, 2.7, 4.2, 1.3],\n",
      "       [5.7, 3. , 4.2, 1.2],\n",
      "       [5.7, 2.9, 4.2, 1.3],\n",
      "       [6.2, 2.9, 4.3, 1.3],\n",
      "       [5.1, 2.5, 3. , 1.1],\n",
      "       [5.7, 2.8, 4.1, 1.3],\n",
      "       [6.3, 3.3, 6. , 2.5],\n",
      "       [5.8, 2.7, 5.1, 1.9],\n",
      "       [7.1, 3. , 5.9, 2.1],\n",
      "       [6.3, 2.9, 5.6, 1.8],\n",
      "       [6.5, 3. , 5.8, 2.2],\n",
      "       [7.6, 3. , 6.6, 2.1],\n",
      "       [4.9, 2.5, 4.5, 1.7],\n",
      "       [7.3, 2.9, 6.3, 1.8],\n",
      "       [6.7, 2.5, 5.8, 1.8],\n",
      "       [7.2, 3.6, 6.1, 2.5],\n",
      "       [6.5, 3.2, 5.1, 2. ],\n",
      "       [6.4, 2.7, 5.3, 1.9],\n",
      "       [6.8, 3. , 5.5, 2.1],\n",
      "       [5.7, 2.5, 5. , 2. ],\n",
      "       [5.8, 2.8, 5.1, 2.4],\n",
      "       [6.4, 3.2, 5.3, 2.3],\n",
      "       [6.5, 3. , 5.5, 1.8],\n",
      "       [7.7, 3.8, 6.7, 2.2],\n",
      "       [7.7, 2.6, 6.9, 2.3],\n",
      "       [6. , 2.2, 5. , 1.5],\n",
      "       [6.9, 3.2, 5.7, 2.3],\n",
      "       [5.6, 2.8, 4.9, 2. ],\n",
      "       [7.7, 2.8, 6.7, 2. ],\n",
      "       [6.3, 2.7, 4.9, 1.8],\n",
      "       [6.7, 3.3, 5.7, 2.1],\n",
      "       [7.2, 3.2, 6. , 1.8],\n",
      "       [6.2, 2.8, 4.8, 1.8],\n",
      "       [6.1, 3. , 4.9, 1.8],\n",
      "       [6.4, 2.8, 5.6, 2.1],\n",
      "       [7.2, 3. , 5.8, 1.6],\n",
      "       [7.4, 2.8, 6.1, 1.9],\n",
      "       [7.9, 3.8, 6.4, 2. ],\n",
      "       [6.4, 2.8, 5.6, 2.2],\n",
      "       [6.3, 2.8, 5.1, 1.5],\n",
      "       [6.1, 2.6, 5.6, 1.4],\n",
      "       [7.7, 3. , 6.1, 2.3],\n",
      "       [6.3, 3.4, 5.6, 2.4],\n",
      "       [6.4, 3.1, 5.5, 1.8],\n",
      "       [6. , 3. , 4.8, 1.8],\n",
      "       [6.9, 3.1, 5.4, 2.1],\n",
      "       [6.7, 3.1, 5.6, 2.4],\n",
      "       [6.9, 3.1, 5.1, 2.3],\n",
      "       [5.8, 2.7, 5.1, 1.9],\n",
      "       [6.8, 3.2, 5.9, 2.3],\n",
      "       [6.7, 3.3, 5.7, 2.5],\n",
      "       [6.7, 3. , 5.2, 2.3],\n",
      "       [6.3, 2.5, 5. , 1.9],\n",
      "       [6.5, 3. , 5.2, 2. ],\n",
      "       [6.2, 3.4, 5.4, 2.3],\n",
      "       [5.9, 3. , 5.1, 1.8]]), 'target': array([0, 0, 0, 0, 0, 0, 0, 0, 0, 0, 0, 0, 0, 0, 0, 0, 0, 0, 0, 0, 0, 0,\n",
      "       0, 0, 0, 0, 0, 0, 0, 0, 0, 0, 0, 0, 0, 0, 0, 0, 0, 0, 0, 0, 0, 0,\n",
      "       0, 0, 0, 0, 0, 0, 1, 1, 1, 1, 1, 1, 1, 1, 1, 1, 1, 1, 1, 1, 1, 1,\n",
      "       1, 1, 1, 1, 1, 1, 1, 1, 1, 1, 1, 1, 1, 1, 1, 1, 1, 1, 1, 1, 1, 1,\n",
      "       1, 1, 1, 1, 1, 1, 1, 1, 1, 1, 1, 1, 2, 2, 2, 2, 2, 2, 2, 2, 2, 2,\n",
      "       2, 2, 2, 2, 2, 2, 2, 2, 2, 2, 2, 2, 2, 2, 2, 2, 2, 2, 2, 2, 2, 2,\n",
      "       2, 2, 2, 2, 2, 2, 2, 2, 2, 2, 2, 2, 2, 2, 2, 2, 2, 2]), 'target_names': array(['setosa', 'versicolor', 'virginica'], dtype='<U10'), 'DESCR': '.. _iris_dataset:\\n\\nIris plants dataset\\n--------------------\\n\\n**Data Set Characteristics:**\\n\\n    :Number of Instances: 150 (50 in each of three classes)\\n    :Number of Attributes: 4 numeric, predictive attributes and the class\\n    :Attribute Information:\\n        - sepal length in cm\\n        - sepal width in cm\\n        - petal length in cm\\n        - petal width in cm\\n        - class:\\n                - Iris-Setosa\\n                - Iris-Versicolour\\n                - Iris-Virginica\\n                \\n    :Summary Statistics:\\n\\n    ============== ==== ==== ======= ===== ====================\\n                    Min  Max   Mean    SD   Class Correlation\\n    ============== ==== ==== ======= ===== ====================\\n    sepal length:   4.3  7.9   5.84   0.83    0.7826\\n    sepal width:    2.0  4.4   3.05   0.43   -0.4194\\n    petal length:   1.0  6.9   3.76   1.76    0.9490  (high!)\\n    petal width:    0.1  2.5   1.20   0.76    0.9565  (high!)\\n    ============== ==== ==== ======= ===== ====================\\n\\n    :Missing Attribute Values: None\\n    :Class Distribution: 33.3% for each of 3 classes.\\n    :Creator: R.A. Fisher\\n    :Donor: Michael Marshall (MARSHALL%PLU@io.arc.nasa.gov)\\n    :Date: July, 1988\\n\\nThe famous Iris database, first used by Sir R.A. Fisher. The dataset is taken\\nfrom Fisher\\'s paper. Note that it\\'s the same as in R, but not as in the UCI\\nMachine Learning Repository, which has two wrong data points.\\n\\nThis is perhaps the best known database to be found in the\\npattern recognition literature.  Fisher\\'s paper is a classic in the field and\\nis referenced frequently to this day.  (See Duda & Hart, for example.)  The\\ndata set contains 3 classes of 50 instances each, where each class refers to a\\ntype of iris plant.  One class is linearly separable from the other 2; the\\nlatter are NOT linearly separable from each other.\\n\\n.. topic:: References\\n\\n   - Fisher, R.A. \"The use of multiple measurements in taxonomic problems\"\\n     Annual Eugenics, 7, Part II, 179-188 (1936); also in \"Contributions to\\n     Mathematical Statistics\" (John Wiley, NY, 1950).\\n   - Duda, R.O., & Hart, P.E. (1973) Pattern Classification and Scene Analysis.\\n     (Q327.D83) John Wiley & Sons.  ISBN 0-471-22361-1.  See page 218.\\n   - Dasarathy, B.V. (1980) \"Nosing Around the Neighborhood: A New System\\n     Structure and Classification Rule for Recognition in Partially Exposed\\n     Environments\".  IEEE Transactions on Pattern Analysis and Machine\\n     Intelligence, Vol. PAMI-2, No. 1, 67-71.\\n   - Gates, G.W. (1972) \"The Reduced Nearest Neighbor Rule\".  IEEE Transactions\\n     on Information Theory, May 1972, 431-433.\\n   - See also: 1988 MLC Proceedings, 54-64.  Cheeseman et al\"s AUTOCLASS II\\n     conceptual clustering system finds 3 classes in the data.\\n   - Many, many more ...', 'feature_names': ['sepal length (cm)', 'sepal width (cm)', 'petal length (cm)', 'petal width (cm)'], 'filename': 'c:\\\\users\\\\asus\\\\appdata\\\\local\\\\programs\\\\python\\\\python37-32\\\\lib\\\\site-packages\\\\sklearn\\\\datasets\\\\data\\\\iris.csv'}\n"
     ]
    }
   ],
   "source": [
    "iris = datasets.load_iris()\n",
    "print(iris)"
   ]
  },
  {
   "cell_type": "markdown",
   "metadata": {},
   "source": [
    "# 1. Pembelajaran Standar"
   ]
  },
  {
   "cell_type": "markdown",
   "metadata": {},
   "source": [
    "##  k-Nearest Neighbors"
   ]
  },
  {
   "cell_type": "code",
   "execution_count": 22,
   "metadata": {},
   "outputs": [
    {
     "name": "stdout",
     "output_type": "stream",
     "text": [
      "NearestNeighbors(algorithm='ball_tree', leaf_size=30, metric='minkowski',\n",
      "         metric_params=None, n_jobs=None, n_neighbors=2, p=2, radius=1.0)\n",
      "KNN tidak memiliki model hipotesis\n"
     ]
    }
   ],
   "source": [
    "iris_knn = neighbors.NearestNeighbors(n_neighbors=2, algorithm='ball_tree').fit(iris['data'])\n",
    "print(iris_knn)\n",
    "print(\"KNN tidak memiliki model hipotesis\")"
   ]
  },
  {
   "cell_type": "markdown",
   "metadata": {},
   "source": [
    "## Neural Network MLP"
   ]
  },
  {
   "cell_type": "code",
   "execution_count": 39,
   "metadata": {},
   "outputs": [
    {
     "name": "stdout",
     "output_type": "stream",
     "text": [
      "Classes =  [0 1 2]\n",
      "Loss =  0.05999582986230124\n",
      "Coefs =  [array([[-3.65e-03, -2.58e-03, -1.14e-01,  1.53e-01,  7.32e-02, -8.19e-03,\n",
      "         1.81e-02, -6.09e-02, -2.71e-02,  9.00e-02,  1.44e-01, -4.09e-05,\n",
      "         1.20e-12,  6.39e-02, -3.08e-02,  4.95e-02,  1.52e-05,  3.15e-01,\n",
      "         5.13e-02,  1.54e-07,  3.10e-01,  4.04e-02,  1.63e-01, -3.64e-03,\n",
      "         2.11e-01,  1.33e-01,  7.96e-04,  6.86e-02,  9.07e-02, -4.74e-02,\n",
      "        -3.99e-03, -2.21e-01,  1.25e-05, -3.82e-02, -1.09e-01,  1.05e-01,\n",
      "         2.62e-01, -3.90e-02,  1.60e-01,  2.89e-01,  2.47e-02,  2.39e-01,\n",
      "         1.37e-01,  1.38e-01, -4.03e-02, -1.36e-05, -1.56e-02,  2.07e-01,\n",
      "         3.77e-02, -1.96e-01,  1.77e-11,  3.46e-01,  1.15e-01,  7.29e-02,\n",
      "         2.61e-01,  2.76e-01, -3.51e-02,  6.57e-02,  5.48e-02,  1.97e-01,\n",
      "         3.34e-01,  1.11e-01,  2.25e-01, -1.24e-01, -4.29e-03, -1.71e-02,\n",
      "        -9.32e-03, -2.55e-01, -2.27e-01,  2.84e-01,  1.34e-02, -1.81e-01,\n",
      "        -3.48e-02,  1.82e-01,  3.25e-02,  1.22e-01, -2.59e-02, -2.09e-01,\n",
      "         1.98e-01,  2.19e-01, -6.51e-04, -1.09e-02,  1.98e-02, -7.99e-02,\n",
      "         1.61e-01,  1.48e-01,  1.06e-03, -3.21e-05, -9.71e-03,  4.24e-01,\n",
      "         4.29e-10,  6.25e-02, -1.94e-03, -7.14e-02, -2.88e-01,  1.75e-01,\n",
      "         2.31e-01, -2.10e-01,  1.96e-01, -1.69e-04],\n",
      "       [ 9.50e-02, -2.87e-04, -1.60e-01,  4.06e-01,  2.34e-01, -6.49e-08,\n",
      "        -1.32e-01, -1.40e-02,  1.32e-02, -3.05e-01,  4.20e-01, -3.35e-03,\n",
      "         6.46e-13, -7.12e-02, -7.16e-02,  3.47e-01, -1.74e-05,  4.76e-02,\n",
      "         1.42e-01, -9.51e-04,  1.58e-01, -2.59e-01, -1.89e-01, -1.50e-05,\n",
      "         3.04e-01,  3.73e-01, -7.04e-03, -4.90e-02,  4.60e-01, -1.93e-01,\n",
      "         3.14e-03, -3.55e-01, -2.78e-05, -1.63e-02,  2.35e-02, -2.04e-02,\n",
      "         2.70e-01,  6.36e-02,  3.34e-02,  3.68e-01,  1.80e-01,  2.22e-01,\n",
      "        -1.74e-01,  2.71e-01,  1.03e-01, -1.69e-03, -2.63e-01,  3.74e-02,\n",
      "        -1.39e-01, -4.58e-01,  6.21e-07,  2.49e-01, -2.25e-01,  1.41e-01,\n",
      "         4.63e-01, -3.03e-01, -4.90e-02,  1.13e-01, -2.09e-02, -9.00e-02,\n",
      "         2.19e-01, -1.05e-01,  1.78e-01,  5.33e-02, -1.86e-11, -1.42e-01,\n",
      "         4.40e-03, -3.38e-02,  1.26e-01,  4.05e-01,  8.72e-02,  7.99e-02,\n",
      "         2.38e-01,  3.35e-01, -5.39e-02, -1.89e-01, -1.12e-02, -3.19e-01,\n",
      "         2.82e-01, -2.55e-01,  1.72e-03,  6.93e-02, -1.30e-01,  1.15e-01,\n",
      "         3.49e-01,  2.92e-01, -1.07e-01, -1.44e-04,  4.48e-06, -2.44e-02,\n",
      "        -1.11e-02, -1.92e-01, -8.49e-04,  1.46e-01, -2.82e-01, -2.39e-01,\n",
      "        -4.63e-02,  1.61e-01, -1.09e-01, -1.58e-10],\n",
      "       [ 1.40e-01,  3.45e-03,  2.00e-01, -2.53e-01,  2.88e-02,  1.12e-02,\n",
      "         3.62e-01, -1.19e-02, -7.14e-02,  4.37e-01, -4.27e-01, -6.13e-03,\n",
      "         4.28e-10,  2.66e-01,  3.32e-01, -1.24e-01, -9.42e-06, -2.73e-01,\n",
      "        -1.23e-01, -2.50e-03,  1.15e-01,  4.74e-02,  9.64e-02,  5.29e-03,\n",
      "        -3.49e-02, -4.84e-01, -4.10e-04,  3.89e-01, -2.65e-01,  1.67e-01,\n",
      "        -7.25e-03,  4.66e-01, -3.08e-03, -1.12e-02,  3.11e-01, -1.49e-01,\n",
      "        -3.75e-01,  2.07e-01,  7.66e-02, -4.44e-01,  5.00e-02, -4.40e-02,\n",
      "         1.08e-01, -2.15e-01,  2.27e-01,  2.87e-04,  1.91e-01,  1.73e-01,\n",
      "         3.61e-01,  5.20e-01, -2.80e-03, -7.62e-02,  2.10e-01, -6.92e-02,\n",
      "        -4.64e-01,  1.29e-01, -1.68e-02,  1.06e-01,  4.60e-02,  2.77e-01,\n",
      "        -2.85e-02,  8.36e-02, -3.88e-01,  2.99e-01,  1.13e-12,  5.26e-01,\n",
      "         7.73e-11,  3.24e-01,  1.13e-01, -4.85e-01, -2.76e-01,  3.53e-01,\n",
      "        -1.77e-01, -1.85e-01, -1.42e-01,  2.31e-01, -2.88e-02,  4.66e-01,\n",
      "        -3.15e-01, -5.15e-02, -1.62e-04,  1.29e-02,  4.51e-01, -1.22e-01,\n",
      "        -2.83e-01, -1.08e-01,  1.05e-01, -6.41e-06, -2.57e-04,  4.47e-02,\n",
      "        -7.04e-04,  2.61e-01, -1.12e-02,  1.40e-01,  5.26e-01,  6.41e-02,\n",
      "         1.74e-01,  1.43e-01, -1.47e-01,  1.78e-03],\n",
      "       [-5.07e-02, -1.99e-04,  4.03e-01, -3.92e-01, -1.23e-01, -7.68e-03,\n",
      "         2.03e-01, -8.42e-03, -1.48e-02,  4.42e-01, -4.70e-01, -4.22e-06,\n",
      "        -7.19e-03,  4.70e-01,  1.02e-01, -1.93e-01, -3.46e-05, -6.38e-02,\n",
      "        -2.08e-01,  2.13e-05, -1.06e-01,  2.34e-02,  3.16e-01,  4.94e-13,\n",
      "        -2.60e-01, -2.53e-01, -9.48e-06,  3.62e-01, -2.57e-01, -6.63e-02,\n",
      "        -3.30e-03,  5.27e-01, -2.53e-03, -1.01e-02,  3.77e-01,  2.23e-01,\n",
      "        -5.37e-01,  2.32e-01, -1.48e-02, -5.13e-01,  3.82e-02, -2.87e-01,\n",
      "         3.37e-01,  7.50e-03,  8.34e-02, -2.56e-09,  4.50e-01,  1.59e-01,\n",
      "         2.36e-01,  5.39e-01,  6.51e-13, -1.59e-01,  3.74e-01,  1.58e-03,\n",
      "        -5.16e-01, -9.94e-02, -2.72e-02,  4.82e-03,  3.77e-01,  7.54e-02,\n",
      "        -3.40e-01,  2.31e-01, -5.02e-01,  1.23e-01, -4.22e-03,  3.84e-01,\n",
      "        -1.17e-11,  4.10e-01,  8.37e-02, -4.90e-01,  6.20e-02,  3.36e-01,\n",
      "         3.55e-01, -4.15e-01, -4.08e-02,  1.26e-01, -1.61e-04,  3.70e-01,\n",
      "        -3.69e-01,  1.55e-01, -8.33e-03,  2.04e-01,  2.29e-01,  8.67e-03,\n",
      "         8.92e-04, -2.70e-01, -1.97e-01, -1.91e-03,  7.69e-04, -4.69e-01,\n",
      "        -1.17e-02,  2.83e-01,  3.48e-06,  5.99e-02,  4.97e-01,  2.69e-01,\n",
      "        -1.54e-01, -1.15e-01,  3.30e-03, -7.55e-03]]), array([[-1.70e-01, -5.20e-02, -7.08e-02],\n",
      "       [-1.31e-03,  8.50e-12, -9.14e-07],\n",
      "       [-6.43e-02, -5.57e-01,  2.71e-01],\n",
      "       [-1.72e-02, -5.93e-02, -3.33e-01],\n",
      "       [ 1.30e-01, -1.24e-01, -2.30e-01],\n",
      "       [ 1.29e-04, -1.72e-05,  2.48e-03],\n",
      "       [-9.78e-02,  7.10e-03,  4.63e-01],\n",
      "       [-5.98e-03,  3.52e-07, -5.90e-03],\n",
      "       [-8.82e-02, -1.15e-01,  3.61e-02],\n",
      "       [-1.95e-01, -1.51e-03,  1.78e-01],\n",
      "       [ 4.74e-01, -4.74e-01, -3.13e-01],\n",
      "       [-3.02e-03,  1.21e-03, -1.22e-05],\n",
      "       [-3.38e-03,  6.91e-03,  1.13e-03],\n",
      "       [-1.22e-01, -1.31e-01,  3.11e-01],\n",
      "       [-2.75e-01, -3.90e-02,  4.17e-01],\n",
      "       [ 1.01e-01, -1.78e-01, -4.74e-01],\n",
      "       [-1.95e-03, -4.55e-03, -1.61e-03],\n",
      "       [ 3.86e-01,  5.34e-02, -3.33e-01],\n",
      "       [ 2.43e-01,  1.80e-01, -2.18e-01],\n",
      "       [-7.44e-05, -1.99e-04, -5.17e-06],\n",
      "       [ 1.86e-01,  1.95e-01, -1.23e-01],\n",
      "       [ 1.93e-01, -3.82e-02, -6.02e-02],\n",
      "       [-3.98e-01,  1.36e-01,  1.53e-01],\n",
      "       [-5.34e-05,  2.11e-08,  3.95e-03],\n",
      "       [ 1.08e-01, -1.17e-01, -1.53e-01],\n",
      "       [ 5.82e-01, -6.14e-01, -2.86e-01],\n",
      "       [ 1.15e-02,  3.41e-04,  2.26e-10],\n",
      "       [-1.64e-02,  5.06e-02,  2.50e-01],\n",
      "       [ 1.78e-01, -1.11e-01, -3.76e-01],\n",
      "       [ 3.42e-02,  1.59e-01, -1.42e-01],\n",
      "       [ 2.10e-04, -3.01e-04, -3.05e-03],\n",
      "       [-8.74e-02, -3.82e-01,  2.36e-01],\n",
      "       [ 2.16e-03,  6.30e-03, -3.65e-10],\n",
      "       [-3.59e-03, -1.47e-06, -2.26e-03],\n",
      "       [-3.41e-01, -9.31e-02,  9.80e-02],\n",
      "       [ 4.97e-02,  1.01e-01,  2.61e-02],\n",
      "       [ 4.01e-01,  5.60e-01, -6.15e-01],\n",
      "       [ 1.03e-01, -7.53e-02,  2.87e-01],\n",
      "       [-2.02e-01,  1.57e-01, -4.88e-02],\n",
      "       [ 4.71e-01,  5.37e-01, -6.00e-01],\n",
      "       [ 1.82e-01,  9.32e-02, -1.70e-01],\n",
      "       [-9.26e-03,  1.67e-01, -2.08e-01],\n",
      "       [-2.78e-01,  9.40e-02,  4.29e-01],\n",
      "       [ 3.66e-01, -4.08e-02, -3.99e-01],\n",
      "       [-2.12e-01,  9.52e-03,  3.02e-01],\n",
      "       [-2.62e-03, -7.40e-13,  5.08e-03],\n",
      "       [-1.13e-01, -2.27e-01,  2.13e-01],\n",
      "       [-1.35e-01, -1.05e-01, -5.32e-02],\n",
      "       [-3.53e-01,  8.49e-02,  2.52e-02],\n",
      "       [ 5.64e-02, -3.17e-01,  4.29e-01],\n",
      "       [ 1.41e-05,  1.01e-03,  3.04e-05],\n",
      "       [ 2.11e-01,  3.28e-02, -4.21e-01],\n",
      "       [-2.82e-01,  1.83e-01,  2.12e-01],\n",
      "       [-3.25e-02,  6.76e-02,  1.19e-01],\n",
      "       [ 5.40e-01,  5.11e-01, -5.06e-01],\n",
      "       [-2.88e-01,  8.71e-02, -8.92e-02],\n",
      "       [ 3.29e-04, -2.56e-04, -2.80e-05],\n",
      "       [ 1.28e-01, -4.86e-02, -1.01e-03],\n",
      "       [-1.94e-01, -6.25e-02,  4.67e-01],\n",
      "       [-3.46e-01,  1.24e-01,  2.85e-01],\n",
      "       [-6.90e-02,  1.39e-01, -4.62e-01],\n",
      "       [-5.39e-02, -1.32e-01,  4.06e-02],\n",
      "       [ 3.47e-01, -1.01e-01,  1.28e-01],\n",
      "       [-3.35e-01, -2.29e-01,  5.30e-01],\n",
      "       [-1.33e-08,  2.49e-03,  4.34e-04],\n",
      "       [-2.58e-01, -1.31e-01,  1.38e-01],\n",
      "       [-2.22e-07,  1.16e-02,  4.50e-03],\n",
      "       [-1.13e-01, -6.10e-01,  2.98e-01],\n",
      "       [ 1.52e-01,  1.07e-02, -1.47e-01],\n",
      "       [ 5.23e-01,  3.66e-01, -5.05e-01],\n",
      "       [-1.05e-01,  1.30e-02, -2.58e-01],\n",
      "       [-3.00e-01, -1.99e-01,  3.97e-01],\n",
      "       [ 1.11e-01, -2.12e-01,  9.02e-02],\n",
      "       [ 3.44e-01,  5.12e-02, -6.33e-02],\n",
      "       [-1.77e-01, -5.87e-02, -1.21e-01],\n",
      "       [-7.67e-02,  3.19e-01,  7.29e-02],\n",
      "       [ 3.61e-05,  5.14e-03, -1.97e-03],\n",
      "       [-3.56e-01, -6.43e-01,  6.38e-01],\n",
      "       [ 3.69e-01,  3.09e-01, -3.44e-01],\n",
      "       [-1.14e-01,  3.32e-01,  2.01e-01],\n",
      "       [-2.51e-03,  2.41e-06, -3.64e-03],\n",
      "       [-1.27e-01, -6.25e-02,  1.41e-01],\n",
      "       [-2.69e-01,  4.39e-02,  6.62e-02],\n",
      "       [-4.33e-02,  1.06e-01,  8.89e-02],\n",
      "       [ 3.56e-01, -2.03e-01, -8.09e-02],\n",
      "       [ 2.24e-01, -9.18e-02, -3.03e-01],\n",
      "       [ 1.69e-03, -7.93e-02, -1.22e-01],\n",
      "       [-4.75e-03, -1.74e-06, -5.11e-03],\n",
      "       [-4.69e-13, -1.90e-04, -5.12e-03],\n",
      "       [-1.16e-01,  5.07e-02, -3.88e-01],\n",
      "       [-3.50e-04,  4.35e-04,  1.62e-09],\n",
      "       [-2.63e-01,  1.23e-01,  2.98e-01],\n",
      "       [-1.01e-12,  3.33e-03, -9.21e-06],\n",
      "       [-1.67e-01, -7.60e-02,  1.23e-01],\n",
      "       [-2.92e-01, -6.05e-01,  1.17e-01],\n",
      "       [-4.78e-01, -1.99e-01,  3.76e-01],\n",
      "       [-1.28e-01,  2.25e-01, -1.60e-01],\n",
      "       [ 1.75e-01,  5.14e-02,  6.66e-02],\n",
      "       [ 1.82e-03,  1.08e-01, -1.08e-01],\n",
      "       [-8.89e-03, -3.17e-03,  1.21e-12]])]\n",
      "Intercepts =  [array([-0.08, -0.15, -0.21,  0.25, -0.05, -0.15, -0.1 ,  0.21,  0.09,\n",
      "       -0.04,  0.38, -0.09, -0.11, -0.07, -0.08,  0.41, -0.13,  0.13,\n",
      "        0.37, -0.02,  0.13,  0.05, -0.15, -0.09,  0.2 ,  0.51, -0.23,\n",
      "       -0.34,  0.15, -0.24, -0.09, -0.29, -0.06,  0.12, -0.03,  0.12,\n",
      "        0.77, -0.12,  0.02,  0.65,  0.35,  0.03, -0.27,  0.16, -0.27,\n",
      "       -0.1 , -0.34,  0.04, -0.14, -0.39, -0.19,  0.19, -0.11,  0.09,\n",
      "        0.7 ,  0.06,  0.19, -0.16, -0.3 , -0.36,  0.46,  0.05,  0.38,\n",
      "       -0.14, -0.23, -0.24, -0.07, -0.22,  0.1 ,  0.72, -0.11, -0.04,\n",
      "       -0.04,  0.11,  0.13,  0.08,  0.14, -0.23,  0.4 ,  0.13, -0.02,\n",
      "        0.07, -0.2 ,  0.06,  0.17,  0.14, -0.17, -0.14, -0.13,  0.25,\n",
      "       -0.15, -0.06, -0.18, -0.29, -0.3 , -0.18,  0.31,  0.1 ,  0.25,\n",
      "       -0.16]), array([ 0.21,  0.3 , -0.35])]\n",
      "N Iteration =  534\n",
      "N layers =  3\n",
      "N outputs =  3\n",
      "out_activation_ =  softmax\n"
     ]
    }
   ],
   "source": [
    "iris_neural = neural_network.MLPClassifier(max_iter=1000).fit(iris['data'],iris['target'])\n",
    "print(\"Classes = \", iris_neural.classes_)\n",
    "print(\"Loss = \", iris_neural.loss_)\n",
    "print(\"Coefs = \", iris_neural.coefs_)\n",
    "print(\"Intercepts = \", iris_neural.intercepts_)\n",
    "print(\"N Iteration = \", iris_neural.n_iter_)\n",
    "print(\"N layers = \", iris_neural.n_layers_)\n",
    "print(\"N outputs = \", iris_neural.n_outputs_)\n",
    "print(\"out_activation_ = \", iris_neural.out_activation_)"
   ]
  },
  {
   "cell_type": "markdown",
   "metadata": {},
   "source": [
    "# 2. Pembelajaran 90% split trains dan 10% test"
   ]
  },
  {
   "cell_type": "code",
   "execution_count": 23,
   "metadata": {},
   "outputs": [],
   "source": [
    "def plot_confusion_matrix(cm, classes,\n",
    "                          normalize=False,\n",
    "                          title='Confusion matrix',\n",
    "                          cmap=plt.cm.Blues):\n",
    "    \"\"\"\n",
    "    This function prints and plots the confusion matrix.\n",
    "    Normalization can be applied by setting `normalize=True`.\n",
    "    \"\"\"\n",
    "    if normalize:\n",
    "        cm = cm.astype('float') / cm.sum(axis=1)[:, np.newaxis]\n",
    "        print(\"Normalized confusion matrix\")\n",
    "    else:\n",
    "        print('Confusion matrix, without normalization')\n",
    "\n",
    "    print(cm)\n",
    "\n",
    "    plt.imshow(cm, interpolation='nearest', cmap=cmap)\n",
    "    plt.title(title)\n",
    "    plt.colorbar()\n",
    "    tick_marks = np.arange(len(classes))\n",
    "    plt.xticks(tick_marks, classes, rotation=45)\n",
    "    plt.yticks(tick_marks, classes)\n",
    "\n",
    "    fmt = '.2f' if normalize else 'd'\n",
    "    thresh = cm.max() / 2.\n",
    "    for i, j in itertools.product(range(cm.shape[0]), range(cm.shape[1])):\n",
    "        plt.text(j, i, format(cm[i, j], fmt),\n",
    "                 horizontalalignment=\"center\",\n",
    "                 color=\"white\" if cm[i, j] > thresh else \"black\")\n",
    "\n",
    "    plt.ylabel('True label')\n",
    "    plt.xlabel('Predicted label')\n",
    "    plt.tight_layout()"
   ]
  },
  {
   "cell_type": "code",
   "execution_count": 19,
   "metadata": {
    "collapsed": true
   },
   "outputs": [
    {
     "name": "stdout",
     "output_type": "stream",
     "text": [
      "X trains =  [[5.3 3.7 1.5 0.2]\n",
      " [6.9 3.2 5.7 2.3]\n",
      " [4.3 3.  1.1 0.1]\n",
      " [5.1 3.5 1.4 0.2]\n",
      " [4.9 3.  1.4 0.2]\n",
      " [5.8 2.6 4.  1.2]\n",
      " [4.8 3.4 1.9 0.2]\n",
      " [4.8 3.4 1.6 0.2]\n",
      " [5.  2.3 3.3 1. ]\n",
      " [4.6 3.2 1.4 0.2]\n",
      " [6.3 3.3 6.  2.5]\n",
      " [4.9 3.1 1.5 0.2]\n",
      " [5.2 2.7 3.9 1.4]\n",
      " [5.8 4.  1.2 0.2]\n",
      " [6.5 3.2 5.1 2. ]\n",
      " [6.4 2.8 5.6 2.2]\n",
      " [6.7 3.3 5.7 2.5]\n",
      " [5.2 3.4 1.4 0.2]\n",
      " [6.4 2.9 4.3 1.3]\n",
      " [6.3 2.7 4.9 1.8]\n",
      " [6.8 3.  5.5 2.1]\n",
      " [6.7 3.1 5.6 2.4]\n",
      " [5.5 2.4 3.8 1.1]\n",
      " [6.1 2.8 4.7 1.2]\n",
      " [6.8 3.2 5.9 2.3]\n",
      " [4.8 3.1 1.6 0.2]\n",
      " [5.  3.6 1.4 0.2]\n",
      " [5.4 3.9 1.3 0.4]\n",
      " [6.2 2.8 4.8 1.8]\n",
      " [4.8 3.  1.4 0.1]\n",
      " [5.9 3.  5.1 1.8]\n",
      " [6.2 2.9 4.3 1.3]\n",
      " [6.5 2.8 4.6 1.5]\n",
      " [5.7 2.6 3.5 1. ]\n",
      " [5.  3.  1.6 0.2]\n",
      " [4.7 3.2 1.3 0.2]\n",
      " [5.1 3.7 1.5 0.4]\n",
      " [6.  2.2 5.  1.5]\n",
      " [4.7 3.2 1.6 0.2]\n",
      " [5.5 2.4 3.7 1. ]\n",
      " [7.7 3.8 6.7 2.2]\n",
      " [5.7 2.5 5.  2. ]\n",
      " [6.7 3.1 4.7 1.5]\n",
      " [5.5 2.6 4.4 1.2]\n",
      " [7.  3.2 4.7 1.4]\n",
      " [6.3 2.8 5.1 1.5]\n",
      " [5.7 3.8 1.7 0.3]\n",
      " [5.6 3.  4.5 1.5]\n",
      " [7.7 3.  6.1 2.3]\n",
      " [4.6 3.6 1.  0.2]\n",
      " [4.9 2.4 3.3 1. ]\n",
      " [7.2 3.2 6.  1.8]\n",
      " [6.3 3.4 5.6 2.4]\n",
      " [6.  2.2 4.  1. ]\n",
      " [7.2 3.  5.8 1.6]\n",
      " [4.4 3.  1.3 0.2]\n",
      " [6.5 3.  5.2 2. ]\n",
      " [6.7 2.5 5.8 1.8]\n",
      " [5.7 2.8 4.5 1.3]\n",
      " [6.  2.9 4.5 1.5]\n",
      " [7.4 2.8 6.1 1.9]\n",
      " [5.8 2.7 5.1 1.9]\n",
      " [6.3 2.9 5.6 1.8]\n",
      " [6.2 3.4 5.4 2.3]\n",
      " [5.2 3.5 1.5 0.2]\n",
      " [4.9 3.1 1.5 0.1]\n",
      " [6.5 3.  5.8 2.2]\n",
      " [5.4 3.  4.5 1.5]\n",
      " [6.3 3.3 4.7 1.6]\n",
      " [5.1 2.5 3.  1.1]\n",
      " [4.9 2.5 4.5 1.7]\n",
      " [6.7 3.1 4.4 1.4]\n",
      " [6.2 2.2 4.5 1.5]\n",
      " [5.1 3.3 1.7 0.5]\n",
      " [6.1 3.  4.9 1.8]\n",
      " [7.1 3.  5.9 2.1]\n",
      " [5.2 4.1 1.5 0.1]\n",
      " [5.5 3.5 1.3 0.2]\n",
      " [5.7 3.  4.2 1.2]\n",
      " [5.8 2.7 3.9 1.2]\n",
      " [7.9 3.8 6.4 2. ]\n",
      " [5.  3.3 1.4 0.2]\n",
      " [6.4 2.8 5.6 2.1]\n",
      " [5.6 2.7 4.2 1.3]\n",
      " [5.4 3.9 1.7 0.4]\n",
      " [5.1 3.5 1.4 0.3]\n",
      " [6.1 3.  4.6 1.4]\n",
      " [4.9 3.6 1.4 0.1]\n",
      " [6.9 3.1 5.4 2.1]\n",
      " [5.7 2.9 4.2 1.3]\n",
      " [6.  2.7 5.1 1.6]\n",
      " [5.7 2.8 4.1 1.3]\n",
      " [5.  3.4 1.5 0.2]\n",
      " [6.6 3.  4.4 1.4]\n",
      " [4.5 2.3 1.3 0.3]\n",
      " [5.6 3.  4.1 1.3]\n",
      " [4.8 3.  1.4 0.3]\n",
      " [5.  3.5 1.3 0.3]\n",
      " [5.  2.  3.5 1. ]\n",
      " [5.4 3.4 1.7 0.2]\n",
      " [6.1 2.9 4.7 1.4]\n",
      " [6.4 2.7 5.3 1.9]\n",
      " [5.8 2.7 4.1 1. ]\n",
      " [6.7 3.  5.  1.7]\n",
      " [6.7 3.3 5.7 2.1]\n",
      " [6.  3.4 4.5 1.6]\n",
      " [6.6 2.9 4.6 1.3]\n",
      " [5.1 3.8 1.6 0.2]\n",
      " [5.8 2.7 5.1 1.9]\n",
      " [5.5 4.2 1.4 0.2]\n",
      " [5.6 2.9 3.6 1.3]\n",
      " [6.7 3.  5.2 2.3]\n",
      " [5.5 2.3 4.  1.3]\n",
      " [4.4 3.2 1.3 0.2]\n",
      " [5.  3.4 1.6 0.4]\n",
      " [6.  3.  4.8 1.8]\n",
      " [7.3 2.9 6.3 1.8]\n",
      " [5.4 3.4 1.5 0.4]\n",
      " [6.8 2.8 4.8 1.4]\n",
      " [6.3 2.5 4.9 1.5]\n",
      " [6.9 3.1 4.9 1.5]\n",
      " [5.4 3.7 1.5 0.2]\n",
      " [4.6 3.4 1.4 0.3]\n",
      " [5.1 3.8 1.9 0.4]\n",
      " [6.4 3.2 5.3 2.3]\n",
      " [6.1 2.6 5.6 1.4]\n",
      " [5.7 4.4 1.5 0.4]\n",
      " [6.1 2.8 4.  1.3]\n",
      " [4.4 2.9 1.4 0.2]\n",
      " [6.4 3.1 5.5 1.8]\n",
      " [7.2 3.6 6.1 2.5]\n",
      " [7.7 2.8 6.7 2. ]\n",
      " [7.7 2.6 6.9 2.3]\n",
      " [5.9 3.  4.2 1.5]\n",
      " [5.5 2.5 4.  1.3]]\n",
      "X test [[7.6 3.  6.6 2.1]\n",
      " [5.1 3.4 1.5 0.2]\n",
      " [5.  3.5 1.6 0.6]\n",
      " [5.9 3.2 4.8 1.8]\n",
      " [5.8 2.8 5.1 2.4]\n",
      " [4.6 3.1 1.5 0.2]\n",
      " [6.5 3.  5.5 1.8]\n",
      " [5.  3.2 1.2 0.2]\n",
      " [6.4 3.2 4.5 1.5]\n",
      " [5.1 3.8 1.5 0.3]\n",
      " [6.9 3.1 5.1 2.3]\n",
      " [5.6 2.8 4.9 2. ]\n",
      " [5.6 2.5 3.9 1.1]\n",
      " [6.3 2.3 4.4 1.3]\n",
      " [6.3 2.5 5.  1.9]]\n",
      "y train [0 2 0 0 0 1 0 0 1 0 2 0 1 0 2 2 2 0 1 2 2 2 1 1 2 0 0 0 2 0 2 1 1 1 0 0 0\n",
      " 2 0 1 2 2 1 1 1 2 0 1 2 0 1 2 2 1 2 0 2 2 1 1 2 2 2 2 0 0 2 1 1 1 2 1 1 0\n",
      " 2 2 0 0 1 1 2 0 2 1 0 0 1 0 2 1 1 1 0 1 0 1 0 0 1 0 1 2 1 1 2 1 1 0 2 0 1\n",
      " 2 1 0 0 2 2 0 1 1 1 0 0 0 2 2 0 1 0 2 2 2 2 1 1]\n",
      "y test [2 0 0 1 2 0 2 0 1 0 2 2 1 1 2]\n"
     ]
    }
   ],
   "source": [
    "X_train, X_test, y_train, y_test = model_selection.train_test_split( iris['data'], iris['target'], train_size=0.9, test_size=0.1)\n",
    "print(\"X trains = \", X_train)\n",
    "print(\"X test\", X_test)\n",
    "print(\"y train\", y_train)\n",
    "print(\"y test\", y_test)"
   ]
  },
  {
   "cell_type": "markdown",
   "metadata": {},
   "source": [
    "#  k-Nearest Neighbors"
   ]
  },
  {
   "cell_type": "code",
   "execution_count": 28,
   "metadata": {},
   "outputs": [
    {
     "name": "stdout",
     "output_type": "stream",
     "text": [
      "NearestCentroid(metric='euclidean', shrink_threshold=None)\n",
      "Kinerja KNN =  93.33333333333333 %\n",
      "Confusion matrix, without normalization\n",
      "[[5 0 0]\n",
      " [0 4 0]\n",
      " [0 1 5]]\n",
      "Normalized confusion matrix\n",
      "[[1.   0.   0.  ]\n",
      " [0.   1.   0.  ]\n",
      " [0.   0.17 0.83]]\n"
     ]
    },
    {
     "data": {
      "image/png": "[encoded data removed]",
      "text/plain": [
       "<Figure size 432x288 with 2 Axes>"
      ]
     },
     "metadata": {
      "needs_background": "light"
     },
     "output_type": "display_data"
    },
    {
     "data": {
      "image/png": "[encoded data removed]",
      "text/plain": [
       "<Figure size 432x288 with 2 Axes>"
      ]
     },
     "metadata": {
      "needs_background": "light"
     },
     "output_type": "display_data"
    }
   ],
   "source": [
    "from sklearn.metrics import confusion_matrix\n",
    "iris_knn = neighbors.nearest_centroid.NearestCentroid().fit(X_train, y_train)\n",
    "knn_pred = iris_knn.predict(X_test)\n",
    "print(iris_knn)\n",
    "acc = metrics.accuracy_score(y_test, knn_pred) * 100\n",
    "print(\"Kinerja KNN = \", acc, \"%\")\n",
    "\n",
    "cnf_matrix_nb = confusion_matrix(y_test, knn_pred)\n",
    "np.set_printoptions(precision=2)\n",
    "\n",
    "# Plot non-normalized confusion matrix\n",
    "plt.figure()\n",
    "plot_confusion_matrix(cnf_matrix_nb, classes=iris.target_names,\n",
    "                      title='Confusion matrix, without normalization')\n",
    "\n",
    "# Plot normalized confusion matrix\n",
    "plt.figure()\n",
    "plot_confusion_matrix(cnf_matrix_nb, classes=iris.target_names, normalize=True,\n",
    "                      title='Normalized confusion matrix')\n",
    "\n",
    "plt.show()"
   ]
  },
  {
   "cell_type": "markdown",
   "metadata": {},
   "source": [
    "## Neural Network MLP"
   ]
  },
  {
   "cell_type": "code",
   "execution_count": 38,
   "metadata": {},
   "outputs": [
    {
     "name": "stdout",
     "output_type": "stream",
     "text": [
      "Classes =  [0 1 2]\n",
      "Loss =  0.06975027456130482\n",
      "Coefs =  [array([[ 1.87e-01, -5.09e-03,  2.51e-01,  1.06e-01, -1.16e-01,  8.79e-02,\n",
      "         6.93e-02, -4.00e-03, -3.50e-02,  9.79e-09, -2.30e-01, -2.34e-02,\n",
      "        -3.01e-02,  3.72e-01, -2.30e-03, -9.63e-02, -3.35e-03,  9.40e-02,\n",
      "         5.31e-01, -2.11e-01,  3.30e-02,  1.67e-01,  3.21e-02, -2.95e-13,\n",
      "         2.50e-01, -1.65e-03,  3.45e-02, -8.19e-02,  1.77e-01,  2.80e-01,\n",
      "         1.08e-01,  5.11e-05, -5.68e-04, -5.61e-02,  1.01e-01,  2.33e-01,\n",
      "         1.17e-01,  1.91e-01,  2.53e-01, -2.69e-01, -1.69e-02, -4.11e-02,\n",
      "        -1.15e-01,  2.41e-01,  5.75e-02,  9.10e-02, -3.04e-03,  8.16e-02,\n",
      "        -5.20e-08, -8.01e-03, -3.95e-02, -1.88e-01, -2.97e-06, -2.25e-08,\n",
      "         1.97e-01,  1.37e-01,  1.01e-01,  6.70e-02, -6.11e-12,  1.47e-01,\n",
      "        -4.56e-02,  2.99e-02,  7.92e-14,  8.53e-02,  1.56e-01,  2.77e-02,\n",
      "        -2.34e-02,  1.26e-01,  6.12e-02,  1.20e-01,  3.83e-02, -1.16e-02,\n",
      "        -8.01e-10, -1.07e-03,  3.87e-01, -7.02e-07, -2.06e-02,  1.83e-02,\n",
      "         7.61e-02, -2.37e-03, -6.65e-02, -2.37e-03,  5.80e-02,  1.39e-01,\n",
      "         8.18e-02, -2.41e-04,  3.13e-01, -4.75e-08,  2.28e-01, -5.62e-03,\n",
      "         8.18e-02,  3.16e-02,  2.21e-01,  5.39e-05, -1.92e-02,  1.37e-01,\n",
      "         4.08e-02,  1.94e-03, -7.59e-04, -4.26e-03],\n",
      "       [ 2.90e-02,  1.58e-01,  3.10e-01,  4.28e-01, -2.42e-01,  3.99e-01,\n",
      "        -7.43e-02,  4.44e-14, -7.53e-03, -1.47e-03,  8.95e-02, -8.56e-02,\n",
      "        -2.77e-02,  1.74e-01, -2.67e-09, -1.22e-02, -8.55e-04,  2.29e-01,\n",
      "         1.94e-01, -4.16e-01,  1.74e-01,  2.70e-01,  1.42e-01, -9.01e-06,\n",
      "         7.67e-02,  3.20e-15,  2.33e-02, -3.23e-01, -2.03e-01,  2.17e-01,\n",
      "         3.63e-01, -5.60e-03, -4.99e-14, -1.30e-02,  1.30e-01, -1.17e-02,\n",
      "         2.52e-01,  2.03e-02,  1.01e-01, -9.16e-02,  3.56e-01, -8.62e-03,\n",
      "        -2.53e-02, -7.28e-02,  1.78e-01,  1.40e-01, -1.04e-06,  2.13e-01,\n",
      "        -5.49e-07,  1.03e-01, -4.23e-01, -1.56e-01, -6.78e-04, -4.18e-05,\n",
      "         6.90e-02, -1.37e-01,  3.58e-02,  2.72e-01, -7.29e-07,  1.77e-01,\n",
      "         8.23e-02,  3.06e-02, -3.16e-03,  3.33e-01,  1.27e-01,  1.37e-01,\n",
      "        -1.43e-02,  1.82e-01,  1.74e-01,  3.08e-01,  3.51e-01, -4.92e-02,\n",
      "        -3.84e-03, -2.70e-07,  1.58e-01,  4.16e-05,  1.98e-02,  7.89e-02,\n",
      "         1.52e-01,  5.08e-02, -1.61e-02,  4.73e-05, -1.74e-01,  1.95e-02,\n",
      "        -6.09e-03,  7.89e-08, -1.44e-01,  3.24e-06, -3.44e-01,  8.88e-04,\n",
      "         1.23e-01,  4.95e-02,  3.94e-02, -4.97e-06, -1.73e-03,  4.39e-01,\n",
      "        -1.64e-01,  8.25e-02, -2.81e-04,  3.26e-07],\n",
      "       [-1.35e-01,  1.15e-01, -2.91e-01, -4.43e-01,  2.75e-01, -4.17e-01,\n",
      "         2.60e-03,  2.54e-07, -3.43e-02, -4.76e-12,  2.61e-01, -1.30e-02,\n",
      "        -1.36e-02, -2.33e-01,  1.09e-05,  3.86e-01, -3.19e-04, -2.16e-01,\n",
      "        -5.08e-01,  5.20e-01,  1.36e-01, -4.90e-02,  2.00e-01, -8.40e-15,\n",
      "        -1.84e-01, -9.75e-04,  2.21e-02,  2.11e-01,  1.37e-01,  1.38e-01,\n",
      "        -3.82e-01, -1.05e-03, -4.82e-04, -1.49e-02, -1.26e-01, -1.40e-02,\n",
      "        -2.76e-01,  3.20e-01, -3.88e-01,  4.69e-01, -1.10e-01, -1.45e-02,\n",
      "         5.62e-02, -1.92e-01, -1.10e-01, -6.15e-02,  3.83e-03, -9.24e-02,\n",
      "        -9.37e-04, -2.82e-01,  3.57e-01,  2.78e-01,  5.97e-13, -1.28e-03,\n",
      "         2.10e-02,  2.57e-01, -1.00e-01, -2.74e-01, -1.59e-03, -1.16e-01,\n",
      "         1.92e-01,  8.03e-02, -1.24e-04, -3.32e-01,  1.19e-01,  7.47e-03,\n",
      "        -2.01e-02,  2.43e-01, -2.04e-01, -3.18e-01, -3.35e-01, -3.17e-02,\n",
      "        -1.54e-03,  2.68e-07, -3.18e-01, -7.35e-05, -1.05e-01, -6.30e-02,\n",
      "         2.52e-02, -8.95e-02,  9.89e-03, -7.80e-14,  2.76e-01,  1.91e-01,\n",
      "         1.85e-01, -4.52e-07,  2.12e-01,  2.87e-11,  4.33e-01,  3.09e-05,\n",
      "        -1.44e-01,  1.05e-01,  1.08e-01, -4.93e-03, -8.68e-03, -3.05e-01,\n",
      "         3.40e-01,  2.77e-01, -4.14e-15,  1.64e-03],\n",
      "       [ 2.17e-01,  2.59e-02, -1.24e-01, -4.48e-01,  5.21e-01, -4.34e-01,\n",
      "         3.44e-01, -6.37e-03, -1.61e-03, -6.10e-11,  2.28e-01, -1.65e-02,\n",
      "         1.43e-02, -5.46e-01, -4.50e-09,  4.77e-01, -3.03e-05, -2.20e-01,\n",
      "        -6.49e-01,  6.11e-01,  2.10e-01, -3.54e-01,  8.12e-02, -2.13e-03,\n",
      "        -3.23e-01,  2.04e-03,  1.57e-01,  4.68e-01,  2.75e-01, -1.61e-03,\n",
      "        -4.03e-01, -4.43e-06, -6.20e-03,  4.41e-03,  1.02e-01, -3.32e-01,\n",
      "        -1.45e-02,  1.52e-01, -1.54e-01,  4.49e-01, -2.34e-01,  1.69e-02,\n",
      "        -1.54e-02, -8.33e-02,  2.15e-01, -1.77e-01, -3.93e-12, -4.10e-01,\n",
      "        -2.83e-05, -4.86e-02,  4.98e-01,  4.24e-01, -2.55e-06, -2.06e-03,\n",
      "        -9.66e-02, -9.11e-02, -2.24e-01, -3.35e-01, -2.46e-03, -1.11e-01,\n",
      "         1.75e-01, -4.09e-02, -1.29e-04, -2.79e-01,  2.57e-01, -1.58e-01,\n",
      "        -5.44e-03,  1.09e-02, -3.72e-01, -4.59e-01,  1.94e-02,  2.72e-04,\n",
      "         1.09e-08, -3.54e-03, -5.63e-01,  7.62e-14, -9.43e-02, -1.62e-01,\n",
      "        -7.98e-03, -1.26e-01, -2.38e-02,  3.87e-08,  2.88e-01, -1.49e-01,\n",
      "         8.97e-02, -1.08e-04, -1.18e-01,  1.23e-06,  1.77e-01,  2.07e-14,\n",
      "         3.34e-01, -7.91e-03, -1.06e-01,  4.63e-03,  2.18e-03, -2.47e-01,\n",
      "         1.82e-01,  2.70e-01, -3.48e-05,  1.34e-10]]), array([[-9.73e-02,  1.89e-01,  1.68e-01],\n",
      "       [-1.71e-01,  1.33e-01,  1.73e-01],\n",
      "       [-5.12e-02, -1.49e-01, -2.59e-01],\n",
      "       [ 4.75e-01, -4.76e-01, -3.76e-01],\n",
      "       [-1.50e-01, -6.45e-01,  5.75e-01],\n",
      "       [ 5.34e-01, -6.56e-01, -4.16e-01],\n",
      "       [-1.66e-01,  8.34e-02,  2.57e-01],\n",
      "       [ 1.22e-07,  1.57e-03,  6.45e-14],\n",
      "       [-3.45e-03, -7.86e-04,  4.59e-05],\n",
      "       [ 5.85e-04,  1.24e-03, -1.15e-03],\n",
      "       [-1.66e-01, -4.24e-01,  3.87e-01],\n",
      "       [ 4.42e-04,  1.30e-05,  2.16e-03],\n",
      "       [-2.09e-02, -2.33e-02, -9.30e-03],\n",
      "       [ 1.91e-01,  5.00e-01, -2.64e-01],\n",
      "       [ 9.60e-05,  6.58e-04, -3.79e-04],\n",
      "       [-5.34e-01, -2.82e-01,  4.23e-01],\n",
      "       [ 1.76e-05,  1.75e-03, -4.12e-05],\n",
      "       [ 3.49e-01, -9.87e-02, -1.26e-01],\n",
      "       [ 5.25e-01,  5.94e-01, -3.16e-01],\n",
      "       [-4.43e-01, -7.08e-01,  6.76e-01],\n",
      "       [ 9.24e-02, -1.90e-01,  1.92e-01],\n",
      "       [ 2.68e-01,  8.16e-03, -1.30e-01],\n",
      "       [ 6.20e-02, -5.47e-02,  1.32e-01],\n",
      "       [ 2.71e-05, -3.36e-04, -3.35e-08],\n",
      "       [ 3.02e-01,  8.33e-02, -3.81e-01],\n",
      "       [-3.92e-04, -1.24e-05, -1.34e-10],\n",
      "       [-1.95e-01, -1.72e-01, -4.67e-02],\n",
      "       [-4.31e-02, -5.19e-01,  4.81e-01],\n",
      "       [-2.04e-01, -1.17e-01,  2.43e-01],\n",
      "       [-1.10e-01,  1.94e-01, -2.04e-01],\n",
      "       [ 4.99e-01, -5.01e-01, -3.50e-01],\n",
      "       [-4.83e-12,  8.81e-05, -1.33e-07],\n",
      "       [ 4.37e-03,  4.21e-05,  2.31e-06],\n",
      "       [ 2.20e-03, -4.87e-04,  3.84e-04],\n",
      "       [-1.19e-01,  1.31e-01,  1.46e-02],\n",
      "       [ 2.60e-01, -9.70e-02, -2.53e-01],\n",
      "       [ 3.59e-01,  3.48e-02, -4.00e-01],\n",
      "       [-2.28e-01,  2.23e-01,  1.46e-01],\n",
      "       [ 2.80e-01, -4.86e-01, -1.03e-01],\n",
      "       [-3.55e-01, -6.70e-01,  2.23e-01],\n",
      "       [ 3.83e-01,  4.79e-02, -2.84e-01],\n",
      "       [ 1.06e-02, -1.62e-02, -6.35e-03],\n",
      "       [ 2.05e-03,  6.44e-03, -6.69e-04],\n",
      "       [ 2.80e-01,  3.03e-01, -3.27e-02],\n",
      "       [ 1.17e-01,  2.70e-02,  1.50e-01],\n",
      "       [ 1.41e-01,  8.93e-02, -1.44e-01],\n",
      "       [ 4.16e-03,  1.25e-08, -3.58e-05],\n",
      "       [ 2.97e-01,  1.71e-01, -2.07e-01],\n",
      "       [-5.74e-05, -7.46e-05,  5.38e-04],\n",
      "       [ 8.48e-02,  9.18e-02,  1.32e-01],\n",
      "       [-2.76e-01, -5.53e-01,  4.76e-01],\n",
      "       [-9.52e-02, -2.74e-01,  2.65e-01],\n",
      "       [-4.14e-05, -1.38e-05, -1.06e-15],\n",
      "       [-4.70e-03,  4.87e-13,  4.11e-13],\n",
      "       [-5.00e-02, -2.99e-02, -2.31e-01],\n",
      "       [-2.71e-01,  1.92e-01, -1.05e-01],\n",
      "       [ 4.17e-02, -4.28e-01,  1.16e-01],\n",
      "       [ 5.22e-01, -4.92e-01, -1.33e-01],\n",
      "       [ 8.03e-04,  4.68e-11, -1.02e-03],\n",
      "       [ 6.86e-02,  2.27e-01, -2.64e-01],\n",
      "       [-3.29e-02, -1.09e-01,  7.15e-02],\n",
      "       [ 2.75e-02, -5.81e-02,  1.51e-01],\n",
      "       [ 3.43e-04, -5.18e-04,  4.84e-03],\n",
      "       [ 3.23e-01, -3.24e-01, -7.56e-02],\n",
      "       [ 1.03e-01,  1.23e-01,  1.36e-01],\n",
      "       [ 3.14e-01,  1.81e-01, -2.92e-01],\n",
      "       [-1.70e-03, -7.75e-06,  2.32e-03],\n",
      "       [-1.96e-01,  2.55e-02, -1.84e-01],\n",
      "       [ 3.18e-01, -4.53e-01,  1.60e-01],\n",
      "       [ 1.04e-02, -2.89e-01, -1.25e-01],\n",
      "       [ 2.81e-01, -2.39e-01, -7.34e-02],\n",
      "       [ 3.04e-03, -4.32e-03, -7.20e-05],\n",
      "       [-3.67e-03,  2.22e-14, -2.88e-08],\n",
      "       [ 1.26e-05,  2.69e-14, -6.50e-04],\n",
      "       [ 2.97e-01,  4.74e-01, -2.74e-01],\n",
      "       [-5.27e-05,  1.47e-04, -4.10e-05],\n",
      "       [ 2.09e-04,  5.26e-03,  8.44e-06],\n",
      "       [-1.22e-01, -2.71e-01, -6.29e-03],\n",
      "       [-4.37e-03,  1.36e-01,  1.09e-01],\n",
      "       [-3.56e-02,  1.58e-02,  1.78e-01],\n",
      "       [-4.15e-03,  2.98e-04, -7.69e-04],\n",
      "       [-2.53e-03, -5.85e-05,  7.71e-05],\n",
      "       [-4.17e-01, -2.88e-01,  3.78e-01],\n",
      "       [-3.87e-02, -5.68e-02,  9.74e-02],\n",
      "       [-1.68e-01,  1.24e-01,  5.20e-02],\n",
      "       [-1.98e-03,  2.87e-06, -3.55e-07],\n",
      "       [-5.75e-02,  2.35e-01, -4.91e-02],\n",
      "       [ 1.41e-07, -4.40e-05,  3.15e-03],\n",
      "       [-1.88e-01,  2.70e-01,  2.89e-01],\n",
      "       [-9.67e-05,  8.76e-04, -2.51e-04],\n",
      "       [-1.25e-01,  8.82e-02,  8.29e-02],\n",
      "       [ 1.16e-01, -7.99e-02,  1.46e-01],\n",
      "       [ 1.65e-02, -1.37e-01, -1.82e-01],\n",
      "       [-1.33e-10,  1.74e-03,  1.93e-04],\n",
      "       [-2.83e-05,  4.41e-10, -5.56e-03],\n",
      "       [ 3.08e-02, -1.06e-01, -3.20e-01],\n",
      "       [-3.14e-01, -3.89e-02,  4.75e-01],\n",
      "       [-2.03e-01,  1.71e-01,  4.77e-02],\n",
      "       [ 1.68e-06, -3.32e-03, -2.60e-04],\n",
      "       [ 2.52e-13, -3.49e-06,  3.04e-03]])]\n",
      "Intercepts =  [array([-0.27,  0.12,  0.18,  0.48, -0.4 ,  0.53, -0.12, -0.2 ,  0.11,\n",
      "       -0.09, -0.17,  0.17,  0.  ,  0.4 ,  0.01, -0.21,  0.02,  0.31,\n",
      "        0.74, -0.46, -0.06,  0.13,  0.11, -0.1 , -0.09, -0.22, -0.23,\n",
      "       -0.03, -0.19,  0.19,  0.35,  0.01, -0.18,  0.18,  0.17,  0.15,\n",
      "        0.18, -0.06, -0.06, -0.56,  0.22,  0.14,  0.23,  0.36, -0.03,\n",
      "        0.33, -0.04,  0.24, -0.05,  0.07, -0.6 , -0.05, -0.15, -0.1 ,\n",
      "        0.27,  0.17, -0.04,  0.28, -0.21,  0.29,  0.14, -0.04, -0.03,\n",
      "        0.23, -0.07,  0.13,  0.05,  0.02,  0.33,  0.2 ,  0.07,  0.21,\n",
      "       -0.08, -0.22,  0.39, -0.08,  0.08,  0.1 ,  0.09, -0.12,  0.13,\n",
      "       -0.01, -0.35, -0.18, -0.01, -0.14,  0.24, -0.05, -0.25, -0.1 ,\n",
      "        0.11, -0.28, -0.09, -0.17,  0.06,  0.11, -0.23,  0.14, -0.01,\n",
      "       -0.09]), array([-0.12, -0.02, -0.04])]\n",
      "N Iteration =  593\n",
      "N layers =  3\n",
      "N outputs =  3\n",
      "out_activation_ =  softmax\n",
      "Score =  0.9333333333333333\n",
      "\n",
      "Kinerja KNN =  93.33333333333333 %\n",
      "Confusion matrix, without normalization\n",
      "[[5 0 0]\n",
      " [0 3 1]\n",
      " [0 0 6]]\n",
      "Normalized confusion matrix\n",
      "[[1.   0.   0.  ]\n",
      " [0.   0.75 0.25]\n",
      " [0.   0.   1.  ]]\n"
     ]
    },
    {
     "data": {
      "image/png": "[encoded data removed]",
      "text/plain": [
       "<Figure size 432x288 with 2 Axes>"
      ]
     },
     "metadata": {
      "needs_background": "light"
     },
     "output_type": "display_data"
    },
    {
     "data": {
      "image/png": "[encoded data removed]",
      "text/plain": [
       "<Figure size 432x288 with 2 Axes>"
      ]
     },
     "metadata": {
      "needs_background": "light"
     },
     "output_type": "display_data"
    }
   ],
   "source": [
    "neur = neural_network.MLPClassifier(max_iter = 1000)\n",
    "iris_neural = neur.fit(X_train,y_train)\n",
    "print(\"Classes = \", iris_neural.classes_)\n",
    "print(\"Loss = \", iris_neural.loss_)\n",
    "print(\"Coefs = \", iris_neural.coefs_)\n",
    "print(\"Intercepts = \", iris_neural.intercepts_)\n",
    "print(\"N Iteration = \", iris_neural.n_iter_)\n",
    "print(\"N layers = \", iris_neural.n_layers_)\n",
    "print(\"N outputs = \", iris_neural.n_outputs_)\n",
    "print(\"out_activation_ = \", iris_neural.out_activation_)\n",
    "print(\"Score = \", iris_neural.score(X_test, y_test))\n",
    "print()\n",
    "acc = metrics.accuracy_score(y_test, knn_pred) * 100\n",
    "print(\"Kinerja KNN = \", acc, \"%\")\n",
    "pred = neur.predict(X_test)\n",
    "cnf_matrix_nb = confusion_matrix(y_test, pred)\n",
    "np.set_printoptions(precision=2)\n",
    "\n",
    "# Plot non-normalized confusion matrix\n",
    "plt.figure()\n",
    "plot_confusion_matrix(cnf_matrix_nb, classes=iris.target_names,\n",
    "                      title='Confusion matrix, without normalization')\n",
    "\n",
    "# Plot normalized confusion matrix\n",
    "plt.figure()\n",
    "plot_confusion_matrix(cnf_matrix_nb, classes=iris.target_names, normalize=True,\n",
    "                      title='Normalized confusion matrix')\n",
    "\n",
    "plt.show()"
   ]
  },
  {
   "cell_type": "markdown",
   "metadata": {},
   "source": [
    "# 3. Pembelajaran dengan 10-fold cross Validation"
   ]
  },
  {
   "cell_type": "markdown",
   "metadata": {},
   "source": [
    "## k-Nearest Neighbors"
   ]
  },
  {
   "cell_type": "code",
   "execution_count": 34,
   "metadata": {},
   "outputs": [
    {
     "name": "stdout",
     "output_type": "stream",
     "text": [
      "Score Fold-1: 0.8666666666666667\n",
      "Score Fold-2: 0.9333333333333333\n",
      "Score Fold-3: 0.9333333333333333\n",
      "Score Fold-4: 0.9333333333333333\n",
      "Score Fold-5: 0.9333333333333333\n",
      "Score Fold-6: 0.8\n",
      "Score Fold-7: 1.0\n",
      "Score Fold-8: 0.9333333333333333\n",
      "Score Fold-9: 1.0\n",
      "Score Fold-10: 1.0\n"
     ]
    }
   ],
   "source": [
    "scores_nb = model_selection.cross_val_score(iris_knn, iris.data, iris.target, cv=10)\n",
    "for i in range(10):\n",
    "    print('Score Fold-' + str(i+1) + ':', scores_nb[i])"
   ]
  },
  {
   "cell_type": "markdown",
   "metadata": {},
   "source": [
    "## Neural Network MLP"
   ]
  },
  {
   "cell_type": "code",
   "execution_count": 45,
   "metadata": {},
   "outputs": [
    {
     "name": "stdout",
     "output_type": "stream",
     "text": [
      "Score Fold-1: 1.0\n",
      "Score Fold-2: 1.0\n",
      "Score Fold-3: 1.0\n",
      "Score Fold-4: 1.0\n",
      "Score Fold-5: 0.8666666666666667\n",
      "Score Fold-6: 1.0\n",
      "Score Fold-7: 0.8666666666666667\n",
      "Score Fold-8: 1.0\n",
      "Score Fold-9: 1.0\n",
      "Score Fold-10: 1.0\n"
     ]
    }
   ],
   "source": [
    "scores_nb = model_selection.cross_val_score(iris_neural, iris.data, iris.target, cv=10)\n",
    "for i in range(10):\n",
    "    print('Score Fold-' + str(i+1) + ':', scores_nb[i])"
   ]
  },
  {
   "cell_type": "markdown",
   "metadata": {},
   "source": [
    "# 4. Menyimpan model ke file eksternal"
   ]
  },
  {
   "cell_type": "markdown",
   "metadata": {},
   "source": [
    "## k-Nearest Neighbors"
   ]
  },
  {
   "cell_type": "code",
   "execution_count": 51,
   "metadata": {},
   "outputs": [
    {
     "data": {
      "text/plain": [
       "['knn_model.joblib']"
      ]
     },
     "execution_count": 51,
     "metadata": {},
     "output_type": "execute_result"
    }
   ],
   "source": [
    "externals.joblib.dump(iris_knn, 'knn_model.joblib')"
   ]
  },
  {
   "cell_type": "markdown",
   "metadata": {},
   "source": [
    "## Neural Networks MLP"
   ]
  },
  {
   "cell_type": "code",
   "execution_count": 49,
   "metadata": {},
   "outputs": [
    {
     "data": {
      "text/plain": [
       "['nn_model.joblib']"
      ]
     },
     "execution_count": 49,
     "metadata": {},
     "output_type": "execute_result"
    }
   ],
   "source": [
    "externals.joblib.dump(iris_neural, 'nn_model.joblib')"
   ]
  },
  {
   "cell_type": "markdown",
   "metadata": {},
   "source": [
    "# 5. Membaca file eksternal"
   ]
  },
  {
   "cell_type": "markdown",
   "metadata": {},
   "source": [
    "## k-Nearest Neighbors"
   ]
  },
  {
   "cell_type": "code",
   "execution_count": 52,
   "metadata": {},
   "outputs": [],
   "source": [
    "iris_knn = externals.joblib.load('knn_model.joblib')"
   ]
  },
  {
   "cell_type": "markdown",
   "metadata": {},
   "source": [
    "## Neural Networks MLP"
   ]
  },
  {
   "cell_type": "code",
   "execution_count": 53,
   "metadata": {},
   "outputs": [],
   "source": [
    "iris_neural = externals.joblib.load('nn_model.joblib')"
   ]
  },
  {
   "cell_type": "markdown",
   "metadata": {},
   "source": [
    "# 6. Membuat data"
   ]
  },
  {
   "cell_type": "markdown",
   "metadata": {},
   "source": [
    "Membuat data baru untuk pengujian"
   ]
  },
  {
   "cell_type": "code",
   "execution_count": 55,
   "metadata": {},
   "outputs": [
    {
     "name": "stdout",
     "output_type": "stream",
     "text": [
      "[1.3, 1.7, 2.4, 4.1]\n"
     ]
    }
   ],
   "source": [
    "instance = [1.3, 1.7, 2.4, 4.1]\n",
    "print(instance)"
   ]
  },
  {
   "cell_type": "markdown",
   "metadata": {},
   "source": [
    "# 7. Klasifikasi"
   ]
  },
  {
   "cell_type": "code",
   "execution_count": 56,
   "metadata": {},
   "outputs": [],
   "source": [
    "newinstance = [instance]"
   ]
  },
  {
   "cell_type": "markdown",
   "metadata": {},
   "source": [
    "## k-Nearest Neighbors"
   ]
  },
  {
   "cell_type": "code",
   "execution_count": 57,
   "metadata": {},
   "outputs": [
    {
     "name": "stdout",
     "output_type": "stream",
     "text": [
      "Klasifikasi menggunakan model KNN [0]\n"
     ]
    }
   ],
   "source": [
    "print('Klasifikasi menggunakan model KNN', iris_knn.predict(newinstance))"
   ]
  },
  {
   "cell_type": "markdown",
   "metadata": {},
   "source": [
    "## Neural Networks MLP"
   ]
  },
  {
   "cell_type": "code",
   "execution_count": 58,
   "metadata": {},
   "outputs": [
    {
     "name": "stdout",
     "output_type": "stream",
     "text": [
      "Klasifikasi menggunakan model Neural Networks MLP [2]\n"
     ]
    }
   ],
   "source": [
    "print('Klasifikasi menggunakan model Neural Networks MLP', iris_neural.predict(newinstance))"
   ]
  },
  {
   "cell_type": "code",
   "execution_count": null,
   "metadata": {},
   "outputs": [],
   "source": []
  }
 ],
 "metadata": {
  "kernelspec": {
   "display_name": "Python 3",
   "language": "python",
   "name": "python3"
  },
  "language_info": {
   "codemirror_mode": {
    "name": "ipython",
    "version": 3
   },
   "file_extension": ".py",
   "mimetype": "text/x-python",
   "name": "python",
   "nbconvert_exporter": "python",
   "pygments_lexer": "ipython3",
   "version": "3.7.1"
  }
 },
 "nbformat": 4,
 "nbformat_minor": 2
}
